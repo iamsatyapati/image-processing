{
 "cells": [
  {
   "cell_type": "markdown",
   "metadata": {},
   "source": [
    "# Image Processing with Keras"
   ]
  },
  {
   "cell_type": "markdown",
   "metadata": {},
   "source": [
    "## Image Processing using NN\n",
    "\n",
    "### Intro to CNN\n",
    "Images have 3 dimensions first one is height, second one is width and third one is color channel. Color channel is 3 : red, blue, green. To enhance one channel, we can set another two to zero.\n",
    "\n",
    "\n",
    "    # Set the red channel in this part of the image to 1\n",
    "    data[:10, :10, 0] = 1\n",
    "\n",
    "    # Set the green channel in this part of the image to 0\n",
    "    data[:10, :10, 1] = 0\n",
    "\n",
    "    # Set the blue channel in this part of the image to 0\n",
    "    data[:10, :10, 2] = 0\n",
    "\n",
    "    # Visualize the result\n",
    "    plt.imshow(data)\n",
    "    plt.show()\n",
    "    \n",
    "    \n",
    "    "
   ]
  },
  {
   "cell_type": "code",
   "execution_count": null,
   "metadata": {},
   "outputs": [],
   "source": []
  }
 ],
 "metadata": {
  "kernelspec": {
   "display_name": "Python 3",
   "language": "python",
   "name": "python3"
  },
  "language_info": {
   "codemirror_mode": {
    "name": "ipython",
    "version": 3
   },
   "file_extension": ".py",
   "mimetype": "text/x-python",
   "name": "python",
   "nbconvert_exporter": "python",
   "pygments_lexer": "ipython3",
   "version": "3.7.4"
  }
 },
 "nbformat": 4,
 "nbformat_minor": 2
}
